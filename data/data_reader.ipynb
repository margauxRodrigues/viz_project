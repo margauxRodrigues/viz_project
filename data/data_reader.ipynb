{
 "cells": [
  {
   "cell_type": "markdown",
   "metadata": {
    "toc": true
   },
   "source": [
    "<h1>Table of Contents<span class=\"tocSkip\"></span></h1>\n",
    "<div class=\"toc\"><ul class=\"toc-item\"></ul></div>"
   ]
  },
  {
   "cell_type": "code",
   "execution_count": 1,
   "metadata": {
    "ExecuteTime": {
     "end_time": "2019-06-17T09:44:30.452279Z",
     "start_time": "2019-06-17T09:44:29.859256Z"
    }
   },
   "outputs": [],
   "source": [
    "import pandas as pd"
   ]
  },
  {
   "cell_type": "code",
   "execution_count": 18,
   "metadata": {
    "ExecuteTime": {
     "end_time": "2019-06-17T09:59:38.233176Z",
     "start_time": "2019-06-17T09:59:32.221687Z"
    },
    "scrolled": false
   },
   "outputs": [
    {
     "name": "stderr",
     "output_type": "stream",
     "text": [
      "/Users/colin/Dev/miniconda3/lib/python3.7/site-packages/ipykernel_launcher.py:1: ParserWarning: Falling back to the 'python' engine because the 'c' engine does not support regex separators (separators > 1 char and different from '\\s+' are interpreted as regex); you can avoid this warning by specifying engine='python'.\n",
      "  \"\"\"Entry point for launching an IPython kernel.\n"
     ]
    }
   ],
   "source": [
    "df = pd.read_csv('hlth_cd_acdr.tsv', sep='[\\t,]')\n",
    "df.columns.values[4] = 'geo'"
   ]
  },
  {
   "cell_type": "code",
   "execution_count": 19,
   "metadata": {
    "ExecuteTime": {
     "end_time": "2019-06-17T09:59:38.884374Z",
     "start_time": "2019-06-17T09:59:38.865299Z"
    }
   },
   "outputs": [
    {
     "data": {
      "text/html": [
       "<div>\n",
       "<style scoped>\n",
       "    .dataframe tbody tr th:only-of-type {\n",
       "        vertical-align: middle;\n",
       "    }\n",
       "\n",
       "    .dataframe tbody tr th {\n",
       "        vertical-align: top;\n",
       "    }\n",
       "\n",
       "    .dataframe thead th {\n",
       "        text-align: right;\n",
       "    }\n",
       "</style>\n",
       "<table border=\"1\" class=\"dataframe\">\n",
       "  <thead>\n",
       "    <tr style=\"text-align: right;\">\n",
       "      <th></th>\n",
       "      <th>unit</th>\n",
       "      <th>sex</th>\n",
       "      <th>age</th>\n",
       "      <th>icd10</th>\n",
       "      <th>geo</th>\n",
       "      <th>2010</th>\n",
       "      <th>2009</th>\n",
       "      <th>2008</th>\n",
       "      <th>2007</th>\n",
       "      <th>2006</th>\n",
       "      <th>...</th>\n",
       "      <th>2003</th>\n",
       "      <th>2002</th>\n",
       "      <th>2001</th>\n",
       "      <th>2000</th>\n",
       "      <th>1999</th>\n",
       "      <th>1998</th>\n",
       "      <th>1997</th>\n",
       "      <th>1996</th>\n",
       "      <th>1995</th>\n",
       "      <th>1994</th>\n",
       "    </tr>\n",
       "  </thead>\n",
       "  <tbody>\n",
       "    <tr>\n",
       "      <th>0</th>\n",
       "      <td>RT</td>\n",
       "      <td>F</td>\n",
       "      <td>TOTAL</td>\n",
       "      <td>A-R_V-Y</td>\n",
       "      <td>AL</td>\n",
       "      <td>:</td>\n",
       "      <td>:</td>\n",
       "      <td>:</td>\n",
       "      <td>:</td>\n",
       "      <td>:</td>\n",
       "      <td>...</td>\n",
       "      <td>509.7</td>\n",
       "      <td>459.3</td>\n",
       "      <td>417.0</td>\n",
       "      <td>452.4</td>\n",
       "      <td>:</td>\n",
       "      <td>:</td>\n",
       "      <td>:</td>\n",
       "      <td>:</td>\n",
       "      <td>:</td>\n",
       "      <td>:</td>\n",
       "    </tr>\n",
       "    <tr>\n",
       "      <th>1</th>\n",
       "      <td>RT</td>\n",
       "      <td>F</td>\n",
       "      <td>TOTAL</td>\n",
       "      <td>A-R_V-Y</td>\n",
       "      <td>AT</td>\n",
       "      <td>941.5</td>\n",
       "      <td>949.5</td>\n",
       "      <td>933.2</td>\n",
       "      <td>930.4</td>\n",
       "      <td>931.1</td>\n",
       "      <td>...</td>\n",
       "      <td>999.0</td>\n",
       "      <td>983.8</td>\n",
       "      <td>970.7</td>\n",
       "      <td>1004.8</td>\n",
       "      <td>1024.7</td>\n",
       "      <td>1017.2</td>\n",
       "      <td>1028.9</td>\n",
       "      <td>1056.7</td>\n",
       "      <td>1058.1</td>\n",
       "      <td>1056.9</td>\n",
       "    </tr>\n",
       "    <tr>\n",
       "      <th>2</th>\n",
       "      <td>RT</td>\n",
       "      <td>F</td>\n",
       "      <td>TOTAL</td>\n",
       "      <td>A-R_V-Y</td>\n",
       "      <td>AT11</td>\n",
       "      <td>1079.1</td>\n",
       "      <td>1036.6</td>\n",
       "      <td>1067.2</td>\n",
       "      <td>1070.6</td>\n",
       "      <td>1072.7</td>\n",
       "      <td>...</td>\n",
       "      <td>1153.7</td>\n",
       "      <td>1085.1</td>\n",
       "      <td>1034.0</td>\n",
       "      <td>1075.3</td>\n",
       "      <td>1149.5</td>\n",
       "      <td>1117.2</td>\n",
       "      <td>1140.6</td>\n",
       "      <td>1161.6</td>\n",
       "      <td>1133.4</td>\n",
       "      <td>1157.8</td>\n",
       "    </tr>\n",
       "    <tr>\n",
       "      <th>3</th>\n",
       "      <td>RT</td>\n",
       "      <td>F</td>\n",
       "      <td>TOTAL</td>\n",
       "      <td>A-R_V-Y</td>\n",
       "      <td>AT12</td>\n",
       "      <td>999.3</td>\n",
       "      <td>1024.0</td>\n",
       "      <td>1004.1</td>\n",
       "      <td>990.3</td>\n",
       "      <td>999.4</td>\n",
       "      <td>...</td>\n",
       "      <td>1074.7</td>\n",
       "      <td>1073.6</td>\n",
       "      <td>1055.7</td>\n",
       "      <td>1092.7</td>\n",
       "      <td>1105.8</td>\n",
       "      <td>1120.6</td>\n",
       "      <td>1116.8</td>\n",
       "      <td>1158.8</td>\n",
       "      <td>1156.7</td>\n",
       "      <td>1167.5</td>\n",
       "    </tr>\n",
       "    <tr>\n",
       "      <th>4</th>\n",
       "      <td>RT</td>\n",
       "      <td>F</td>\n",
       "      <td>TOTAL</td>\n",
       "      <td>A-R_V-Y</td>\n",
       "      <td>AT13</td>\n",
       "      <td>994.6</td>\n",
       "      <td>1008.1</td>\n",
       "      <td>995.0</td>\n",
       "      <td>1017.1</td>\n",
       "      <td>1013.4</td>\n",
       "      <td>...</td>\n",
       "      <td>1146.5</td>\n",
       "      <td>1166.4</td>\n",
       "      <td>1175.1</td>\n",
       "      <td>1236.0</td>\n",
       "      <td>1265.6</td>\n",
       "      <td>1238.3</td>\n",
       "      <td>1290.7</td>\n",
       "      <td>1358.2</td>\n",
       "      <td>1377.5</td>\n",
       "      <td>1366.4</td>\n",
       "    </tr>\n",
       "  </tbody>\n",
       "</table>\n",
       "<p>5 rows × 22 columns</p>\n",
       "</div>"
      ],
      "text/plain": [
       "  unit sex    age    icd10   geo    2010     2009     2008     2007     2006   \\\n",
       "0   RT   F  TOTAL  A-R_V-Y    AL       :        :        :        :        :    \n",
       "1   RT   F  TOTAL  A-R_V-Y    AT   941.5    949.5    933.2    930.4    931.1    \n",
       "2   RT   F  TOTAL  A-R_V-Y  AT11  1079.1   1036.6   1067.2   1070.6   1072.7    \n",
       "3   RT   F  TOTAL  A-R_V-Y  AT12   999.3   1024.0   1004.1    990.3    999.4    \n",
       "4   RT   F  TOTAL  A-R_V-Y  AT13   994.6   1008.1    995.0   1017.1   1013.4    \n",
       "\n",
       "   ...    2003     2002     2001     2000     1999     1998     1997   \\\n",
       "0  ...   509.7    459.3    417.0    452.4        :        :        :    \n",
       "1  ...   999.0    983.8    970.7   1004.8   1024.7   1017.2   1028.9    \n",
       "2  ...  1153.7   1085.1   1034.0   1075.3   1149.5   1117.2   1140.6    \n",
       "3  ...  1074.7   1073.6   1055.7   1092.7   1105.8   1120.6   1116.8    \n",
       "4  ...  1146.5   1166.4   1175.1   1236.0   1265.6   1238.3   1290.7    \n",
       "\n",
       "     1996     1995     1994  \n",
       "0       :        :        :  \n",
       "1  1056.7   1058.1   1056.9  \n",
       "2  1161.6   1133.4   1157.8  \n",
       "3  1158.8   1156.7   1167.5  \n",
       "4  1358.2   1377.5   1366.4  \n",
       "\n",
       "[5 rows x 22 columns]"
      ]
     },
     "execution_count": 19,
     "metadata": {},
     "output_type": "execute_result"
    }
   ],
   "source": [
    "df.head()"
   ]
  },
  {
   "cell_type": "code",
   "execution_count": null,
   "metadata": {},
   "outputs": [],
   "source": []
  }
 ],
 "metadata": {
  "kernelspec": {
   "display_name": "Python 3",
   "language": "python",
   "name": "python3"
  },
  "language_info": {
   "codemirror_mode": {
    "name": "ipython",
    "version": 3
   },
   "file_extension": ".py",
   "mimetype": "text/x-python",
   "name": "python",
   "nbconvert_exporter": "python",
   "pygments_lexer": "ipython3",
   "version": "3.7.3"
  },
  "toc": {
   "base_numbering": 1,
   "nav_menu": {},
   "number_sections": false,
   "sideBar": true,
   "skip_h1_title": false,
   "title_cell": "Table of Contents",
   "title_sidebar": "Contents",
   "toc_cell": true,
   "toc_position": {},
   "toc_section_display": true,
   "toc_window_display": true
  },
  "varInspector": {
   "cols": {
    "lenName": 16,
    "lenType": 16,
    "lenVar": 40
   },
   "kernels_config": {
    "python": {
     "delete_cmd_postfix": "",
     "delete_cmd_prefix": "del ",
     "library": "var_list.py",
     "varRefreshCmd": "print(var_dic_list())"
    },
    "r": {
     "delete_cmd_postfix": ") ",
     "delete_cmd_prefix": "rm(",
     "library": "var_list.r",
     "varRefreshCmd": "cat(var_dic_list()) "
    }
   },
   "types_to_exclude": [
    "module",
    "function",
    "builtin_function_or_method",
    "instance",
    "_Feature"
   ],
   "window_display": false
  }
 },
 "nbformat": 4,
 "nbformat_minor": 2
}
