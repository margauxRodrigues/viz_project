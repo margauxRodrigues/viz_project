{
 "cells": [
  {
   "cell_type": "code",
   "execution_count": 17,
   "metadata": {
    "ExecuteTime": {
     "end_time": "2019-06-21T17:33:16.262131Z",
     "start_time": "2019-06-21T17:33:16.257170Z"
    }
   },
   "outputs": [],
   "source": [
    "import collections\n",
    "import pandas as pd\n",
    "import datetime\n",
    "import numpy as np\n",
    "import json"
   ]
  },
  {
   "cell_type": "code",
   "execution_count": 18,
   "metadata": {
    "ExecuteTime": {
     "end_time": "2019-06-21T17:33:16.589755Z",
     "start_time": "2019-06-21T17:33:16.444285Z"
    },
    "scrolled": true
   },
   "outputs": [],
   "source": [
    "data_fr = pd.read_csv('../data/df_fr.csv', sep=',')\n",
    "corres_ICD10 = pd.read_csv('../data/corres_ICD10.csv', sep=';',usecols=[0,1,2,4], header=None)"
   ]
  },
  {
   "cell_type": "code",
   "execution_count": 19,
   "metadata": {
    "ExecuteTime": {
     "end_time": "2019-06-21T17:33:16.693442Z",
     "start_time": "2019-06-21T17:33:16.688453Z"
    }
   },
   "outputs": [],
   "source": [
    "data_fr.columns = ['categorie','unit','sex','age','icd10','geo','2015','2014','2013','2012','2011','2010','2009','2008','2007','2006','2005','2004','2003','2002','2001','2000','1999','1998','1997','1996','1995','1994']"
   ]
  },
  {
   "cell_type": "code",
   "execution_count": 20,
   "metadata": {
    "ExecuteTime": {
     "end_time": "2019-06-21T17:33:17.057725Z",
     "start_time": "2019-06-21T17:33:17.052740Z"
    }
   },
   "outputs": [],
   "source": [
    "categorie_0 = ['A-R_V-Y']\n",
    "categorie_1 = ['A-U','V01-Y89']\n",
    "categorie_2 = ['A_B','C00-D48','E','F','TOXICO','G_H','I','J','K','L','M,','N','O','P','Q','R']"
   ]
  },
  {
   "cell_type": "code",
   "execution_count": 21,
   "metadata": {
    "ExecuteTime": {
     "end_time": "2019-06-21T17:33:17.533557Z",
     "start_time": "2019-06-21T17:33:17.528601Z"
    }
   },
   "outputs": [],
   "source": [
    "corres_list = corres_ICD10[0].values.tolist()"
   ]
  },
  {
   "cell_type": "code",
   "execution_count": 22,
   "metadata": {
    "ExecuteTime": {
     "end_time": "2019-06-21T17:33:18.230946Z",
     "start_time": "2019-06-21T17:33:18.225993Z"
    }
   },
   "outputs": [],
   "source": [
    "categorie_3 = corres_list\n",
    "for elt in categorie_0:\n",
    "    try:\n",
    "        categorie_3.remove(elt);\n",
    "    except:\n",
    "        pass\n",
    "for elt in categorie_1:\n",
    "    try:\n",
    "        categorie_3.remove(elt);\n",
    "    except:\n",
    "        pass\n",
    "for elt in categorie_2:\n",
    "    try:\n",
    "        categorie_3.remove(elt);\n",
    "    except:\n",
    "        pass"
   ]
  },
  {
   "cell_type": "code",
   "execution_count": 23,
   "metadata": {
    "ExecuteTime": {
     "end_time": "2019-06-21T17:33:18.816730Z",
     "start_time": "2019-06-21T17:33:18.768817Z"
    }
   },
   "outputs": [],
   "source": [
    "def categorize(ele):\n",
    "    if ele in categorie_3:\n",
    "        return 3\n",
    "    else:\n",
    "        if ele in categorie_1:\n",
    "            return 1\n",
    "        else:\n",
    "            if ele in categorie_2:\n",
    "                return 2\n",
    "            else:\n",
    "                return 0\n",
    "data_fr['categorie'] = data_fr['icd10'].apply(categorize)"
   ]
  },
  {
   "cell_type": "code",
   "execution_count": 24,
   "metadata": {
    "ExecuteTime": {
     "end_time": "2019-06-21T17:33:20.201896Z",
     "start_time": "2019-06-21T17:33:20.025198Z"
    }
   },
   "outputs": [],
   "source": [
    "data_fr.to_csv('../data/data_fr_new.csv')"
   ]
  },
  {
   "cell_type": "code",
   "execution_count": 11,
   "metadata": {
    "ExecuteTime": {
     "end_time": "2019-06-20T21:00:06.560368Z",
     "start_time": "2019-06-20T21:00:06.555390Z"
    }
   },
   "outputs": [],
   "source": [
    "icd10_dict = corres_ICD10.set_index(0).loc[:,1].to_dict()"
   ]
  },
  {
   "cell_type": "markdown",
   "metadata": {},
   "source": [
    "## Partie SEB"
   ]
  },
  {
   "cell_type": "code",
   "execution_count": 26,
   "metadata": {
    "ExecuteTime": {
     "end_time": "2019-06-21T17:33:29.991635Z",
     "start_time": "2019-06-21T17:33:29.728404Z"
    }
   },
   "outputs": [],
   "source": [
    "for col in data_fr.columns[6:]:\n",
    "    data_fr[col] = data_fr[col].str.strip().replace({\":\":\"NaN\", \": z\":\"NaN\"}).astype('float64')"
   ]
  },
  {
   "cell_type": "code",
   "execution_count": 27,
   "metadata": {
    "ExecuteTime": {
     "end_time": "2019-06-21T17:33:32.218452Z",
     "start_time": "2019-06-21T17:33:31.888736Z"
    }
   },
   "outputs": [
    {
     "ename": "NameError",
     "evalue": "name 'icd10_dict' is not defined",
     "output_type": "error",
     "traceback": [
      "\u001b[1;31m---------------------------------------------------------------------------\u001b[0m",
      "\u001b[1;31mNameError\u001b[0m                                 Traceback (most recent call last)",
      "\u001b[1;32m<ipython-input-27-3e4d8cc1403e>\u001b[0m in \u001b[0;36m<module>\u001b[1;34m\u001b[0m\n\u001b[1;32m----> 1\u001b[1;33m \u001b[0mdata_fr\u001b[0m\u001b[1;33m.\u001b[0m\u001b[0minsert\u001b[0m\u001b[1;33m(\u001b[0m\u001b[0mloc\u001b[0m\u001b[1;33m=\u001b[0m\u001b[1;36m4\u001b[0m\u001b[1;33m,\u001b[0m \u001b[0mvalue\u001b[0m\u001b[1;33m=\u001b[0m\u001b[0mdata_fr\u001b[0m\u001b[1;33m.\u001b[0m\u001b[0micd10\u001b[0m\u001b[1;33m.\u001b[0m\u001b[0mreplace\u001b[0m\u001b[1;33m(\u001b[0m\u001b[0micd10_dict\u001b[0m\u001b[1;33m)\u001b[0m\u001b[1;33m.\u001b[0m\u001b[0mvalues\u001b[0m\u001b[1;33m,\u001b[0m \u001b[0mcolumn\u001b[0m\u001b[1;33m=\u001b[0m\u001b[1;34m\"maladies\"\u001b[0m\u001b[1;33m)\u001b[0m\u001b[1;33m\u001b[0m\u001b[1;33m\u001b[0m\u001b[0m\n\u001b[0m",
      "\u001b[1;31mNameError\u001b[0m: name 'icd10_dict' is not defined"
     ]
    }
   ],
   "source": [
    "data_fr.insert(loc=4, value=data_fr.icd10.replace(icd10_dict).values, column=\"maladies\")"
   ]
  },
  {
   "cell_type": "code",
   "execution_count": 14,
   "metadata": {
    "ExecuteTime": {
     "end_time": "2019-06-20T21:00:06.993992Z",
     "start_time": "2019-06-20T21:00:06.958931Z"
    }
   },
   "outputs": [
    {
     "data": {
      "text/html": [
       "<div>\n",
       "<style scoped>\n",
       "    .dataframe tbody tr th:only-of-type {\n",
       "        vertical-align: middle;\n",
       "    }\n",
       "\n",
       "    .dataframe tbody tr th {\n",
       "        vertical-align: top;\n",
       "    }\n",
       "\n",
       "    .dataframe thead th {\n",
       "        text-align: right;\n",
       "    }\n",
       "</style>\n",
       "<table border=\"1\" class=\"dataframe\">\n",
       "  <thead>\n",
       "    <tr style=\"text-align: right;\">\n",
       "      <th></th>\n",
       "      <th>categorie</th>\n",
       "      <th>sex</th>\n",
       "      <th>age</th>\n",
       "      <th>maladies</th>\n",
       "      <th>icd10</th>\n",
       "      <th>geo</th>\n",
       "      <th>2015</th>\n",
       "      <th>2014</th>\n",
       "      <th>2013</th>\n",
       "      <th>2012</th>\n",
       "      <th>...</th>\n",
       "      <th>2003</th>\n",
       "      <th>2002</th>\n",
       "      <th>2001</th>\n",
       "      <th>2000</th>\n",
       "      <th>1999</th>\n",
       "      <th>1998</th>\n",
       "      <th>1997</th>\n",
       "      <th>1996</th>\n",
       "      <th>1995</th>\n",
       "      <th>1994</th>\n",
       "    </tr>\n",
       "  </thead>\n",
       "  <tbody>\n",
       "    <tr>\n",
       "      <th>0</th>\n",
       "      <td>0</td>\n",
       "      <td>F</td>\n",
       "      <td>TOTAL</td>\n",
       "      <td>Toutes causes de mortalit� (A00-Y89) sauf S00-T98</td>\n",
       "      <td>A-R_V-Y</td>\n",
       "      <td>FR</td>\n",
       "      <td>864.04</td>\n",
       "      <td>810.56</td>\n",
       "      <td>816.66</td>\n",
       "      <td>824.57</td>\n",
       "      <td>...</td>\n",
       "      <td>868.2</td>\n",
       "      <td>839.1</td>\n",
       "      <td>835.3</td>\n",
       "      <td>NaN</td>\n",
       "      <td>NaN</td>\n",
       "      <td>NaN</td>\n",
       "      <td>NaN</td>\n",
       "      <td>NaN</td>\n",
       "      <td>NaN</td>\n",
       "      <td>NaN</td>\n",
       "    </tr>\n",
       "    <tr>\n",
       "      <th>1</th>\n",
       "      <td>0</td>\n",
       "      <td>F</td>\n",
       "      <td>TOTAL</td>\n",
       "      <td>Toutes causes de mortalit� (A00-Y89) sauf S00-T98</td>\n",
       "      <td>A-R_V-Y</td>\n",
       "      <td>FR10</td>\n",
       "      <td>602.05</td>\n",
       "      <td>569.34</td>\n",
       "      <td>585.50</td>\n",
       "      <td>593.06</td>\n",
       "      <td>...</td>\n",
       "      <td>684.3</td>\n",
       "      <td>640.7</td>\n",
       "      <td>649.4</td>\n",
       "      <td>649.2</td>\n",
       "      <td>660.7</td>\n",
       "      <td>670.5</td>\n",
       "      <td>671.1</td>\n",
       "      <td>681.2</td>\n",
       "      <td>686.3</td>\n",
       "      <td>669.9</td>\n",
       "    </tr>\n",
       "  </tbody>\n",
       "</table>\n",
       "<p>2 rows × 28 columns</p>\n",
       "</div>"
      ],
      "text/plain": [
       "   categorie sex    age                                           maladies  \\\n",
       "0          0   F  TOTAL  Toutes causes de mortalit� (A00-Y89) sauf S00-T98   \n",
       "1          0   F  TOTAL  Toutes causes de mortalit� (A00-Y89) sauf S00-T98   \n",
       "\n",
       "     icd10   geo    2015    2014    2013    2012  ...   2003   2002   2001  \\\n",
       "0  A-R_V-Y    FR  864.04  810.56  816.66  824.57  ...  868.2  839.1  835.3   \n",
       "1  A-R_V-Y  FR10  602.05  569.34  585.50  593.06  ...  684.3  640.7  649.4   \n",
       "\n",
       "    2000   1999   1998   1997   1996   1995   1994  \n",
       "0    NaN    NaN    NaN    NaN    NaN    NaN    NaN  \n",
       "1  649.2  660.7  670.5  671.1  681.2  686.3  669.9  \n",
       "\n",
       "[2 rows x 28 columns]"
      ]
     },
     "execution_count": 14,
     "metadata": {},
     "output_type": "execute_result"
    }
   ],
   "source": [
    "data_fr.drop(columns=[\"unit\"], inplace=True)\n",
    "data_fr.head(2)"
   ]
  },
  {
   "cell_type": "code",
   "execution_count": 15,
   "metadata": {
    "ExecuteTime": {
     "end_time": "2019-06-20T21:00:07.526218Z",
     "start_time": "2019-06-20T21:00:06.995987Z"
    }
   },
   "outputs": [],
   "source": [
    "data_fr.to_csv('data_fr_new.csv')"
   ]
  },
  {
   "cell_type": "code",
   "execution_count": 51,
   "metadata": {
    "ExecuteTime": {
     "end_time": "2019-06-20T21:06:46.502184Z",
     "start_time": "2019-06-20T21:06:46.473214Z"
    }
   },
   "outputs": [],
   "source": [
    "df = pd.pivot_table(data_fr, values=data_fr.columns[6:], index=['geo', 'icd10'], aggfunc=np.sum)"
   ]
  },
  {
   "cell_type": "code",
   "execution_count": null,
   "metadata": {},
   "outputs": [],
   "source": []
  },
  {
   "cell_type": "code",
   "execution_count": null,
   "metadata": {},
   "outputs": [],
   "source": []
  },
  {
   "cell_type": "code",
   "execution_count": null,
   "metadata": {},
   "outputs": [],
   "source": []
  },
  {
   "cell_type": "code",
   "execution_count": 17,
   "metadata": {
    "ExecuteTime": {
     "end_time": "2019-06-20T21:00:07.568122Z",
     "start_time": "2019-06-20T21:00:07.560145Z"
    }
   },
   "outputs": [],
   "source": [
    "# colIndex=pd.MultiIndex.from_product([data_fr.geo.unique(),\n",
    "#                                     data_fr.icd10.unique()],\n",
    "#                                names=['Region','Code'])"
   ]
  },
  {
   "cell_type": "code",
   "execution_count": 20,
   "metadata": {
    "ExecuteTime": {
     "end_time": "2019-06-20T21:00:08.907150Z",
     "start_time": "2019-06-20T21:00:08.116975Z"
    }
   },
   "outputs": [],
   "source": [
    "# df = data_fr.set_index(['geo', 'sex', 'age', 'icd10']).drop(columns=['categorie', 'unit'])\n",
    "df = data_fr.groupby(['geo', 'sex', 'age', 'icd10','maladies']).sum()\n",
    "\n",
    "df.to_json(\"test.json\")\n",
    "\n",
    "def nested_dict():\n",
    "    return collections.defaultdict(nested_dict)\n",
    "result = nested_dict()"
   ]
  },
  {
   "cell_type": "code",
   "execution_count": 21,
   "metadata": {
    "ExecuteTime": {
     "end_time": "2019-06-20T21:00:08.918132Z",
     "start_time": "2019-06-20T21:00:08.909144Z"
    }
   },
   "outputs": [],
   "source": [
    "for row in df.itertuples(name=\"parent\"):\n",
    "    break\n",
    "    result[row.Index[0]][row.Index[1]]['2015'] = row._1"
   ]
  },
  {
   "cell_type": "code",
   "execution_count": 22,
   "metadata": {
    "ExecuteTime": {
     "end_time": "2019-06-20T21:00:08.933080Z",
     "start_time": "2019-06-20T21:00:08.922110Z"
    }
   },
   "outputs": [],
   "source": [
    "out = json.dumps(result)\n",
    "# out = data_fr.groupby(['geo', 'sex', 'age', 'icd10']).sum()[\"2015\"].to_json(orient='table')"
   ]
  },
  {
   "cell_type": "code",
   "execution_count": 23,
   "metadata": {
    "ExecuteTime": {
     "end_time": "2019-06-20T21:00:08.947042Z",
     "start_time": "2019-06-20T21:00:08.937069Z"
    }
   },
   "outputs": [],
   "source": [
    "with open('data.json', 'w') as f:\n",
    "    f.write(out)"
   ]
  }
 ],
 "metadata": {
  "hide_input": false,
  "kernelspec": {
   "display_name": "Python 3",
   "language": "python",
   "name": "python3"
  },
  "language_info": {
   "codemirror_mode": {
    "name": "ipython",
    "version": 3
   },
   "file_extension": ".py",
   "mimetype": "text/x-python",
   "name": "python",
   "nbconvert_exporter": "python",
   "pygments_lexer": "ipython3",
   "version": "3.7.3"
  },
  "toc": {
   "base_numbering": 1,
   "nav_menu": {},
   "number_sections": true,
   "sideBar": true,
   "skip_h1_title": false,
   "title_cell": "Table of Contents",
   "title_sidebar": "Contents",
   "toc_cell": false,
   "toc_position": {},
   "toc_section_display": true,
   "toc_window_display": true
  },
  "varInspector": {
   "cols": {
    "lenName": 16,
    "lenType": 16,
    "lenVar": 40
   },
   "kernels_config": {
    "python": {
     "delete_cmd_postfix": "",
     "delete_cmd_prefix": "del ",
     "library": "var_list.py",
     "varRefreshCmd": "print(var_dic_list())"
    },
    "r": {
     "delete_cmd_postfix": ") ",
     "delete_cmd_prefix": "rm(",
     "library": "var_list.r",
     "varRefreshCmd": "cat(var_dic_list()) "
    }
   },
   "types_to_exclude": [
    "module",
    "function",
    "builtin_function_or_method",
    "instance",
    "_Feature"
   ],
   "window_display": false
  }
 },
 "nbformat": 4,
 "nbformat_minor": 2
}
