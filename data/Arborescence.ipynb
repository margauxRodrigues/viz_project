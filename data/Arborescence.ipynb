{
 "cells": [
  {
   "cell_type": "code",
   "execution_count": 15,
   "metadata": {
    "ExecuteTime": {
     "end_time": "2019-06-22T20:01:41.692731Z",
     "start_time": "2019-06-22T20:01:41.687742Z"
    }
   },
   "outputs": [],
   "source": [
    "import collections\n",
    "import pandas as pd\n",
    "import datetime\n",
    "import numpy as np\n",
    "import json\n",
    "import codecs"
   ]
  },
  {
   "cell_type": "code",
   "execution_count": 16,
   "metadata": {
    "ExecuteTime": {
     "end_time": "2019-06-22T20:01:42.173752Z",
     "start_time": "2019-06-22T20:01:42.141475Z"
    }
   },
   "outputs": [],
   "source": [
    "data_fr = pd.read_csv('../data/data_fr_split.csv', sep=';', usecols=np.arange(2,35))\n",
    "corres_ICD10 = pd.read_csv('../data/corres_ICD10.csv', sep=';',usecols=[1,2,3,4,5])\n",
    "corres_geo = pd.read_csv('../data/corres_geo.csv', sep=';', usecols=[1,2,3,4])"
   ]
  },
  {
   "cell_type": "code",
   "execution_count": 17,
   "metadata": {
    "ExecuteTime": {
     "end_time": "2019-06-22T20:01:42.493913Z",
     "start_time": "2019-06-22T20:01:42.483964Z"
    }
   },
   "outputs": [
    {
     "data": {
      "text/html": [
       "<div>\n",
       "<style scoped>\n",
       "    .dataframe tbody tr th:only-of-type {\n",
       "        vertical-align: middle;\n",
       "    }\n",
       "\n",
       "    .dataframe tbody tr th {\n",
       "        vertical-align: top;\n",
       "    }\n",
       "\n",
       "    .dataframe thead th {\n",
       "        text-align: right;\n",
       "    }\n",
       "</style>\n",
       "<table border=\"1\" class=\"dataframe\">\n",
       "  <thead>\n",
       "    <tr style=\"text-align: right;\">\n",
       "      <th></th>\n",
       "      <th>niveau_0</th>\n",
       "      <th>niveau_1</th>\n",
       "      <th>niveau_2</th>\n",
       "      <th>region</th>\n",
       "    </tr>\n",
       "  </thead>\n",
       "  <tbody>\n",
       "    <tr>\n",
       "      <th>0</th>\n",
       "      <td>FR</td>\n",
       "      <td>FR</td>\n",
       "      <td>FR</td>\n",
       "      <td>France</td>\n",
       "    </tr>\n",
       "    <tr>\n",
       "      <th>1</th>\n",
       "      <td>FR</td>\n",
       "      <td>FR1</td>\n",
       "      <td>FR1</td>\n",
       "      <td>ile de France</td>\n",
       "    </tr>\n",
       "    <tr>\n",
       "      <th>2</th>\n",
       "      <td>FR</td>\n",
       "      <td>FR1</td>\n",
       "      <td>FR10</td>\n",
       "      <td>ile de France</td>\n",
       "    </tr>\n",
       "    <tr>\n",
       "      <th>3</th>\n",
       "      <td>FR</td>\n",
       "      <td>FR2</td>\n",
       "      <td>FR2</td>\n",
       "      <td>Bassin Parisien (NUTS 2013)</td>\n",
       "    </tr>\n",
       "    <tr>\n",
       "      <th>4</th>\n",
       "      <td>FR</td>\n",
       "      <td>FR2</td>\n",
       "      <td>FR21</td>\n",
       "      <td>Champagne-Ardenne (NUTS 2013)</td>\n",
       "    </tr>\n",
       "  </tbody>\n",
       "</table>\n",
       "</div>"
      ],
      "text/plain": [
       "  niveau_0 niveau_1 niveau_2                         region\n",
       "0       FR       FR       FR                         France\n",
       "1       FR      FR1      FR1                  ile de France\n",
       "2       FR      FR1     FR10                  ile de France\n",
       "3       FR      FR2      FR2    Bassin Parisien (NUTS 2013)\n",
       "4       FR      FR2     FR21  Champagne-Ardenne (NUTS 2013)"
      ]
     },
     "execution_count": 17,
     "metadata": {},
     "output_type": "execute_result"
    }
   ],
   "source": [
    "corres_geo.head()"
   ]
  },
  {
   "cell_type": "code",
   "execution_count": 18,
   "metadata": {
    "ExecuteTime": {
     "end_time": "2019-06-22T20:01:42.965039Z",
     "start_time": "2019-06-22T20:01:42.955097Z"
    }
   },
   "outputs": [
    {
     "data": {
      "text/html": [
       "<div>\n",
       "<style scoped>\n",
       "    .dataframe tbody tr th:only-of-type {\n",
       "        vertical-align: middle;\n",
       "    }\n",
       "\n",
       "    .dataframe tbody tr th {\n",
       "        vertical-align: top;\n",
       "    }\n",
       "\n",
       "    .dataframe thead th {\n",
       "        text-align: right;\n",
       "    }\n",
       "</style>\n",
       "<table border=\"1\" class=\"dataframe\">\n",
       "  <thead>\n",
       "    <tr style=\"text-align: right;\">\n",
       "      <th></th>\n",
       "      <th>niveau_0</th>\n",
       "      <th>niveau_1</th>\n",
       "      <th>niveau_2</th>\n",
       "      <th>niveau_3</th>\n",
       "      <th>maladies</th>\n",
       "    </tr>\n",
       "  </thead>\n",
       "  <tbody>\n",
       "    <tr>\n",
       "      <th>0</th>\n",
       "      <td>A-R_V-Y</td>\n",
       "      <td>A-R_V-Y</td>\n",
       "      <td>A-R_V-Y</td>\n",
       "      <td>A-R_V-Y</td>\n",
       "      <td>Toutes causes de mortalite (A00-Y89) sauf S00-T98</td>\n",
       "    </tr>\n",
       "    <tr>\n",
       "      <th>1</th>\n",
       "      <td>A-R_V-Y</td>\n",
       "      <td>A_U</td>\n",
       "      <td>A_U</td>\n",
       "      <td>A_U</td>\n",
       "      <td>Causes interne de morbidite et mortalite</td>\n",
       "    </tr>\n",
       "    <tr>\n",
       "      <th>2</th>\n",
       "      <td>A-R_V-Y</td>\n",
       "      <td>A_U</td>\n",
       "      <td>A_B</td>\n",
       "      <td>A_B</td>\n",
       "      <td>Certaines maladies infectieuses et parasitaire...</td>\n",
       "    </tr>\n",
       "    <tr>\n",
       "      <th>3</th>\n",
       "      <td>A-R_V-Y</td>\n",
       "      <td>A_U</td>\n",
       "      <td>A_B</td>\n",
       "      <td>A15-A19_B90</td>\n",
       "      <td>Tuberculose</td>\n",
       "    </tr>\n",
       "    <tr>\n",
       "      <th>4</th>\n",
       "      <td>A-R_V-Y</td>\n",
       "      <td>A_U</td>\n",
       "      <td>A_B</td>\n",
       "      <td>B15-B19_B942</td>\n",
       "      <td>Hepatite virale et sequelles d'hepatite virale</td>\n",
       "    </tr>\n",
       "  </tbody>\n",
       "</table>\n",
       "</div>"
      ],
      "text/plain": [
       "  niveau_0 niveau_1 niveau_2      niveau_3  \\\n",
       "0  A-R_V-Y  A-R_V-Y  A-R_V-Y       A-R_V-Y   \n",
       "1  A-R_V-Y      A_U      A_U           A_U   \n",
       "2  A-R_V-Y      A_U      A_B           A_B   \n",
       "3  A-R_V-Y      A_U      A_B   A15-A19_B90   \n",
       "4  A-R_V-Y      A_U      A_B  B15-B19_B942   \n",
       "\n",
       "                                            maladies  \n",
       "0  Toutes causes de mortalite (A00-Y89) sauf S00-T98  \n",
       "1          Causes interne de morbidite et mortalite   \n",
       "2  Certaines maladies infectieuses et parasitaire...  \n",
       "3                                        Tuberculose  \n",
       "4     Hepatite virale et sequelles d'hepatite virale  "
      ]
     },
     "execution_count": 18,
     "metadata": {},
     "output_type": "execute_result"
    }
   ],
   "source": [
    "corres_ICD10.head()"
   ]
  },
  {
   "cell_type": "code",
   "execution_count": 19,
   "metadata": {
    "ExecuteTime": {
     "end_time": "2019-06-22T20:01:46.265725Z",
     "start_time": "2019-06-22T20:01:46.215616Z"
    }
   },
   "outputs": [],
   "source": [
    "# Nettoyage des données:\n",
    "for col in data_fr.columns[11:]:\n",
    "    data_fr[col] = data_fr[col].str.strip().replace({\":\":\"NaN\", \": z\":\"NaN\"}).astype('float64')"
   ]
  },
  {
   "cell_type": "code",
   "execution_count": 20,
   "metadata": {
    "ExecuteTime": {
     "end_time": "2019-06-22T20:01:47.959951Z",
     "start_time": "2019-06-22T20:01:47.937044Z"
    }
   },
   "outputs": [
    {
     "data": {
      "text/html": [
       "<div>\n",
       "<style scoped>\n",
       "    .dataframe tbody tr th:only-of-type {\n",
       "        vertical-align: middle;\n",
       "    }\n",
       "\n",
       "    .dataframe tbody tr th {\n",
       "        vertical-align: top;\n",
       "    }\n",
       "\n",
       "    .dataframe thead th {\n",
       "        text-align: right;\n",
       "    }\n",
       "</style>\n",
       "<table border=\"1\" class=\"dataframe\">\n",
       "  <thead>\n",
       "    <tr style=\"text-align: right;\">\n",
       "      <th></th>\n",
       "      <th>sex</th>\n",
       "      <th>age</th>\n",
       "      <th>geo_niv_0</th>\n",
       "      <th>geo_niv_1</th>\n",
       "      <th>geo_niv_2</th>\n",
       "      <th>region</th>\n",
       "      <th>icd10_niv_0</th>\n",
       "      <th>icd10_niv_1</th>\n",
       "      <th>icd10_niv_2</th>\n",
       "      <th>icd10_niv_3</th>\n",
       "      <th>...</th>\n",
       "      <th>2003</th>\n",
       "      <th>2002</th>\n",
       "      <th>2001</th>\n",
       "      <th>2000</th>\n",
       "      <th>1999</th>\n",
       "      <th>1998</th>\n",
       "      <th>1997</th>\n",
       "      <th>1996</th>\n",
       "      <th>1995</th>\n",
       "      <th>1994</th>\n",
       "    </tr>\n",
       "  </thead>\n",
       "  <tbody>\n",
       "    <tr>\n",
       "      <th>0</th>\n",
       "      <td>F</td>\n",
       "      <td>TOTAL</td>\n",
       "      <td>FR</td>\n",
       "      <td>FR1</td>\n",
       "      <td>FR10</td>\n",
       "      <td>ile de France</td>\n",
       "      <td>A-R_V-Y</td>\n",
       "      <td>A_U</td>\n",
       "      <td>A_B</td>\n",
       "      <td>A15-A19_B90</td>\n",
       "      <td>...</td>\n",
       "      <td>1.3</td>\n",
       "      <td>1.2</td>\n",
       "      <td>1.4</td>\n",
       "      <td>1.5</td>\n",
       "      <td>1.7</td>\n",
       "      <td>1.5</td>\n",
       "      <td>1.4</td>\n",
       "      <td>1.4</td>\n",
       "      <td>1.6</td>\n",
       "      <td>1.4</td>\n",
       "    </tr>\n",
       "    <tr>\n",
       "      <th>1</th>\n",
       "      <td>F</td>\n",
       "      <td>TOTAL</td>\n",
       "      <td>FR</td>\n",
       "      <td>FR2</td>\n",
       "      <td>FR21</td>\n",
       "      <td>Champagne-Ardenne (NUTS 2013)</td>\n",
       "      <td>A-R_V-Y</td>\n",
       "      <td>A_U</td>\n",
       "      <td>A_B</td>\n",
       "      <td>A15-A19_B90</td>\n",
       "      <td>...</td>\n",
       "      <td>1.2</td>\n",
       "      <td>1.2</td>\n",
       "      <td>2.0</td>\n",
       "      <td>0.7</td>\n",
       "      <td>2.2</td>\n",
       "      <td>0.7</td>\n",
       "      <td>0.9</td>\n",
       "      <td>2.2</td>\n",
       "      <td>1.3</td>\n",
       "      <td>2.8</td>\n",
       "    </tr>\n",
       "    <tr>\n",
       "      <th>2</th>\n",
       "      <td>F</td>\n",
       "      <td>TOTAL</td>\n",
       "      <td>FR</td>\n",
       "      <td>FR2</td>\n",
       "      <td>FR22</td>\n",
       "      <td>Picardie (NUTS 2013)</td>\n",
       "      <td>A-R_V-Y</td>\n",
       "      <td>A_U</td>\n",
       "      <td>A_B</td>\n",
       "      <td>A15-A19_B90</td>\n",
       "      <td>...</td>\n",
       "      <td>0.9</td>\n",
       "      <td>1.6</td>\n",
       "      <td>1.6</td>\n",
       "      <td>1.4</td>\n",
       "      <td>1.1</td>\n",
       "      <td>1.3</td>\n",
       "      <td>1.3</td>\n",
       "      <td>1.2</td>\n",
       "      <td>1.0</td>\n",
       "      <td>1.7</td>\n",
       "    </tr>\n",
       "    <tr>\n",
       "      <th>3</th>\n",
       "      <td>F</td>\n",
       "      <td>TOTAL</td>\n",
       "      <td>FR</td>\n",
       "      <td>FR2</td>\n",
       "      <td>FR23</td>\n",
       "      <td>Haute-Normandie (NUTS 2013)</td>\n",
       "      <td>A-R_V-Y</td>\n",
       "      <td>A_U</td>\n",
       "      <td>A_B</td>\n",
       "      <td>A15-A19_B90</td>\n",
       "      <td>...</td>\n",
       "      <td>1.5</td>\n",
       "      <td>1.4</td>\n",
       "      <td>2.7</td>\n",
       "      <td>1.4</td>\n",
       "      <td>2.5</td>\n",
       "      <td>1.4</td>\n",
       "      <td>1.8</td>\n",
       "      <td>1.1</td>\n",
       "      <td>2.1</td>\n",
       "      <td>2.1</td>\n",
       "    </tr>\n",
       "    <tr>\n",
       "      <th>4</th>\n",
       "      <td>F</td>\n",
       "      <td>TOTAL</td>\n",
       "      <td>FR</td>\n",
       "      <td>FR2</td>\n",
       "      <td>FR24</td>\n",
       "      <td>Centre (FR) (NUTS 2013)</td>\n",
       "      <td>A-R_V-Y</td>\n",
       "      <td>A_U</td>\n",
       "      <td>A_B</td>\n",
       "      <td>A15-A19_B90</td>\n",
       "      <td>...</td>\n",
       "      <td>1.8</td>\n",
       "      <td>2.1</td>\n",
       "      <td>2.0</td>\n",
       "      <td>1.7</td>\n",
       "      <td>2.2</td>\n",
       "      <td>2.1</td>\n",
       "      <td>1.7</td>\n",
       "      <td>1.5</td>\n",
       "      <td>2.1</td>\n",
       "      <td>2.3</td>\n",
       "    </tr>\n",
       "  </tbody>\n",
       "</table>\n",
       "<p>5 rows × 33 columns</p>\n",
       "</div>"
      ],
      "text/plain": [
       "  sex    age geo_niv_0 geo_niv_1 geo_niv_2                         region  \\\n",
       "0   F  TOTAL        FR       FR1      FR10                  ile de France   \n",
       "1   F  TOTAL        FR       FR2      FR21  Champagne-Ardenne (NUTS 2013)   \n",
       "2   F  TOTAL        FR       FR2      FR22           Picardie (NUTS 2013)   \n",
       "3   F  TOTAL        FR       FR2      FR23    Haute-Normandie (NUTS 2013)   \n",
       "4   F  TOTAL        FR       FR2      FR24        Centre (FR) (NUTS 2013)   \n",
       "\n",
       "  icd10_niv_0 icd10_niv_1 icd10_niv_2  icd10_niv_3  ... 2003  2002  2001  \\\n",
       "0     A-R_V-Y         A_U         A_B  A15-A19_B90  ...  1.3   1.2   1.4   \n",
       "1     A-R_V-Y         A_U         A_B  A15-A19_B90  ...  1.2   1.2   2.0   \n",
       "2     A-R_V-Y         A_U         A_B  A15-A19_B90  ...  0.9   1.6   1.6   \n",
       "3     A-R_V-Y         A_U         A_B  A15-A19_B90  ...  1.5   1.4   2.7   \n",
       "4     A-R_V-Y         A_U         A_B  A15-A19_B90  ...  1.8   2.1   2.0   \n",
       "\n",
       "   2000  1999  1998  1997  1996  1995  1994  \n",
       "0   1.5   1.7   1.5   1.4   1.4   1.6   1.4  \n",
       "1   0.7   2.2   0.7   0.9   2.2   1.3   2.8  \n",
       "2   1.4   1.1   1.3   1.3   1.2   1.0   1.7  \n",
       "3   1.4   2.5   1.4   1.8   1.1   2.1   2.1  \n",
       "4   1.7   2.2   2.1   1.7   1.5   2.1   2.3  \n",
       "\n",
       "[5 rows x 33 columns]"
      ]
     },
     "execution_count": 20,
     "metadata": {},
     "output_type": "execute_result"
    }
   ],
   "source": [
    "data_fr.head()"
   ]
  },
  {
   "cell_type": "code",
   "execution_count": 14,
   "metadata": {
    "ExecuteTime": {
     "end_time": "2019-06-22T19:56:02.319459Z",
     "start_time": "2019-06-22T19:56:02.263379Z"
    }
   },
   "outputs": [],
   "source": [
    "data_fr.to_csv('data_fr.csv')"
   ]
  },
  {
   "cell_type": "code",
   "execution_count": 9,
   "metadata": {
    "ExecuteTime": {
     "end_time": "2019-06-22T11:44:37.972534Z",
     "start_time": "2019-06-22T11:44:37.894383Z"
    }
   },
   "outputs": [],
   "source": [
    "# data_fr.drop(['geo_niv_2', 'icd10_niv_3'], inplace=True, axis=1)"
   ]
  },
  {
   "cell_type": "code",
   "execution_count": 37,
   "metadata": {
    "ExecuteTime": {
     "end_time": "2019-06-22T11:52:23.048650Z",
     "start_time": "2019-06-22T11:52:19.693839Z"
    }
   },
   "outputs": [],
   "source": [
    "df = data_fr.pivot_table(index=data_fr.columns[2:9].to_list(),\n",
    "                   values=data_fr.columns[9:].to_list(),\n",
    "                   columns=data_fr.columns[:2].to_list())\n",
    "# df.to_json('arbo_1.json')"
   ]
  },
  {
   "cell_type": "code",
   "execution_count": 38,
   "metadata": {
    "ExecuteTime": {
     "end_time": "2019-06-22T11:52:32.423132Z",
     "start_time": "2019-06-22T11:52:32.208783Z"
    }
   },
   "outputs": [],
   "source": [
    "df = data_fr.pivot_table(index=data_fr.columns[2:9].to_list(),\n",
    "                   values=data_fr.columns[9:].to_list(),\n",
    "                   columns=data_fr.columns[:1].to_list())\n",
    "# df.to_json('arbo_2.json')"
   ]
  },
  {
   "cell_type": "code",
   "execution_count": 13,
   "metadata": {
    "ExecuteTime": {
     "end_time": "2019-06-21T19:28:41.779493Z",
     "start_time": "2019-06-21T19:28:41.762538Z"
    }
   },
   "outputs": [],
   "source": [
    "# ============ Dictionnaires imbriqués ===========\n",
    "# ================================================\n",
    "\n",
    "# def nested_dict():\n",
    "#     return collections.defaultdict(nested_dict)\n",
    "# result = nested_dict()\n",
    "\n",
    "# for row in df.itertuples():\n",
    "#     result[row.Index[0]][row.Index[1]][row.Index[2]][row.Index[3]][row.Index[4]][row.Index[5]] = row._1\n",
    "    \n",
    "# out = json.dumps(result)\n",
    "\n",
    "# with open('test.json', 'w') as f:\n",
    "#     f.write(out)"
   ]
  },
  {
   "cell_type": "code",
   "execution_count": null,
   "metadata": {},
   "outputs": [],
   "source": []
  }
 ],
 "metadata": {
  "hide_input": false,
  "kernelspec": {
   "display_name": "Python 3",
   "language": "python",
   "name": "python3"
  },
  "language_info": {
   "codemirror_mode": {
    "name": "ipython",
    "version": 3
   },
   "file_extension": ".py",
   "mimetype": "text/x-python",
   "name": "python",
   "nbconvert_exporter": "python",
   "pygments_lexer": "ipython3",
   "version": "3.7.3"
  },
  "toc": {
   "base_numbering": 1,
   "nav_menu": {},
   "number_sections": true,
   "sideBar": true,
   "skip_h1_title": false,
   "title_cell": "Table of Contents",
   "title_sidebar": "Contents",
   "toc_cell": false,
   "toc_position": {},
   "toc_section_display": true,
   "toc_window_display": false
  },
  "varInspector": {
   "cols": {
    "lenName": 16,
    "lenType": 16,
    "lenVar": 40
   },
   "kernels_config": {
    "python": {
     "delete_cmd_postfix": "",
     "delete_cmd_prefix": "del ",
     "library": "var_list.py",
     "varRefreshCmd": "print(var_dic_list())"
    },
    "r": {
     "delete_cmd_postfix": ") ",
     "delete_cmd_prefix": "rm(",
     "library": "var_list.r",
     "varRefreshCmd": "cat(var_dic_list()) "
    }
   },
   "types_to_exclude": [
    "module",
    "function",
    "builtin_function_or_method",
    "instance",
    "_Feature"
   ],
   "window_display": false
  }
 },
 "nbformat": 4,
 "nbformat_minor": 2
}
