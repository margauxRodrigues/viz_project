{
 "cells": [
  {
   "cell_type": "code",
   "execution_count": 1,
   "metadata": {
    "ExecuteTime": {
     "end_time": "2019-06-24T20:05:42.712275Z",
     "start_time": "2019-06-24T20:05:40.199875Z"
    }
   },
   "outputs": [],
   "source": [
    "import collections\n",
    "import pandas as pd\n",
    "import datetime\n",
    "import numpy as np\n",
    "import json\n",
    "import codecs"
   ]
  },
  {
   "cell_type": "code",
   "execution_count": 2,
   "metadata": {
    "ExecuteTime": {
     "end_time": "2019-06-24T20:05:42.825193Z",
     "start_time": "2019-06-24T20:05:42.724867Z"
    }
   },
   "outputs": [],
   "source": [
    "data_fr = pd.read_csv('../data/data_fr_vf.csv', sep=';', usecols=np.arange(2,38))\n",
    "corres_ICD10 = pd.read_csv('../data/corres_ICD10.csv', sep=';',usecols=[1,2,3,4,5])\n",
    "corres_geo = pd.read_csv('../data/corres_geo.csv', sep=';', usecols=[1,2,3,4])"
   ]
  },
  {
   "cell_type": "code",
   "execution_count": 3,
   "metadata": {
    "ExecuteTime": {
     "end_time": "2019-06-24T20:05:43.708306Z",
     "start_time": "2019-06-24T20:05:43.617220Z"
    }
   },
   "outputs": [],
   "source": [
    "# Nettoyage des données:\n",
    "for col in data_fr.columns[15:]:\n",
    "    data_fr[col] = data_fr[col].str.strip().replace({\":\":\"NaN\", \": z\":\"NaN\"}).astype('float64')"
   ]
  },
  {
   "cell_type": "code",
   "execution_count": 4,
   "metadata": {
    "ExecuteTime": {
     "end_time": "2019-06-24T20:05:44.428307Z",
     "start_time": "2019-06-24T20:05:44.395361Z"
    }
   },
   "outputs": [
    {
     "data": {
      "text/html": [
       "<div>\n",
       "<style scoped>\n",
       "    .dataframe tbody tr th:only-of-type {\n",
       "        vertical-align: middle;\n",
       "    }\n",
       "\n",
       "    .dataframe tbody tr th {\n",
       "        vertical-align: top;\n",
       "    }\n",
       "\n",
       "    .dataframe thead th {\n",
       "        text-align: right;\n",
       "    }\n",
       "</style>\n",
       "<table border=\"1\" class=\"dataframe\">\n",
       "  <thead>\n",
       "    <tr style=\"text-align: right;\">\n",
       "      <th></th>\n",
       "      <th>sex</th>\n",
       "      <th>age</th>\n",
       "      <th>geo_niv_0</th>\n",
       "      <th>geo_niv_1</th>\n",
       "      <th>geo_niv_2</th>\n",
       "      <th>region</th>\n",
       "      <th>icd10_niv_0</th>\n",
       "      <th>icd10_nom_niv_0</th>\n",
       "      <th>icd10_niv_1</th>\n",
       "      <th>icd10_nom_niv_1</th>\n",
       "      <th>...</th>\n",
       "      <th>2003</th>\n",
       "      <th>2002</th>\n",
       "      <th>2001</th>\n",
       "      <th>2000</th>\n",
       "      <th>1999</th>\n",
       "      <th>1998</th>\n",
       "      <th>1997</th>\n",
       "      <th>1996</th>\n",
       "      <th>1995</th>\n",
       "      <th>1994</th>\n",
       "    </tr>\n",
       "  </thead>\n",
       "  <tbody>\n",
       "    <tr>\n",
       "      <th>0</th>\n",
       "      <td>F</td>\n",
       "      <td>TOTAL</td>\n",
       "      <td>FR</td>\n",
       "      <td>FR1</td>\n",
       "      <td>FR10</td>\n",
       "      <td>ile de France</td>\n",
       "      <td>A-R_V-Y</td>\n",
       "      <td>Toutes causes de mortalite</td>\n",
       "      <td>A-R_V-Y</td>\n",
       "      <td>Toutes causes de mortalite</td>\n",
       "      <td>...</td>\n",
       "      <td>684.3</td>\n",
       "      <td>640.7</td>\n",
       "      <td>649.4</td>\n",
       "      <td>649.2</td>\n",
       "      <td>660.7</td>\n",
       "      <td>670.5</td>\n",
       "      <td>671.1</td>\n",
       "      <td>681.2</td>\n",
       "      <td>686.3</td>\n",
       "      <td>669.9</td>\n",
       "    </tr>\n",
       "    <tr>\n",
       "      <th>1</th>\n",
       "      <td>F</td>\n",
       "      <td>TOTAL</td>\n",
       "      <td>FR</td>\n",
       "      <td>FR2</td>\n",
       "      <td>FR21</td>\n",
       "      <td>Champagne-Ardenne</td>\n",
       "      <td>A-R_V-Y</td>\n",
       "      <td>Toutes causes de mortalite</td>\n",
       "      <td>A-R_V-Y</td>\n",
       "      <td>Toutes causes de mortalite</td>\n",
       "      <td>...</td>\n",
       "      <td>898.5</td>\n",
       "      <td>866.6</td>\n",
       "      <td>870.9</td>\n",
       "      <td>877.6</td>\n",
       "      <td>900.1</td>\n",
       "      <td>858.5</td>\n",
       "      <td>861.1</td>\n",
       "      <td>874.0</td>\n",
       "      <td>881.0</td>\n",
       "      <td>842.5</td>\n",
       "    </tr>\n",
       "    <tr>\n",
       "      <th>2</th>\n",
       "      <td>F</td>\n",
       "      <td>TOTAL</td>\n",
       "      <td>FR</td>\n",
       "      <td>FR2</td>\n",
       "      <td>FR22</td>\n",
       "      <td>Picardie</td>\n",
       "      <td>A-R_V-Y</td>\n",
       "      <td>Toutes causes de mortalite</td>\n",
       "      <td>A-R_V-Y</td>\n",
       "      <td>Toutes causes de mortalite</td>\n",
       "      <td>...</td>\n",
       "      <td>880.7</td>\n",
       "      <td>844.1</td>\n",
       "      <td>830.9</td>\n",
       "      <td>829.0</td>\n",
       "      <td>839.5</td>\n",
       "      <td>828.4</td>\n",
       "      <td>838.8</td>\n",
       "      <td>844.8</td>\n",
       "      <td>834.7</td>\n",
       "      <td>794.2</td>\n",
       "    </tr>\n",
       "    <tr>\n",
       "      <th>3</th>\n",
       "      <td>F</td>\n",
       "      <td>TOTAL</td>\n",
       "      <td>FR</td>\n",
       "      <td>FR2</td>\n",
       "      <td>FR23</td>\n",
       "      <td>Haute-Normandie</td>\n",
       "      <td>A-R_V-Y</td>\n",
       "      <td>Toutes causes de mortalite</td>\n",
       "      <td>A-R_V-Y</td>\n",
       "      <td>Toutes causes de mortalite</td>\n",
       "      <td>...</td>\n",
       "      <td>867.2</td>\n",
       "      <td>827.0</td>\n",
       "      <td>833.0</td>\n",
       "      <td>820.2</td>\n",
       "      <td>814.5</td>\n",
       "      <td>830.9</td>\n",
       "      <td>811.7</td>\n",
       "      <td>844.8</td>\n",
       "      <td>833.0</td>\n",
       "      <td>777.1</td>\n",
       "    </tr>\n",
       "    <tr>\n",
       "      <th>4</th>\n",
       "      <td>F</td>\n",
       "      <td>TOTAL</td>\n",
       "      <td>FR</td>\n",
       "      <td>FR2</td>\n",
       "      <td>FR24</td>\n",
       "      <td>Centre</td>\n",
       "      <td>A-R_V-Y</td>\n",
       "      <td>Toutes causes de mortalite</td>\n",
       "      <td>A-R_V-Y</td>\n",
       "      <td>Toutes causes de mortalite</td>\n",
       "      <td>...</td>\n",
       "      <td>1004.7</td>\n",
       "      <td>941.5</td>\n",
       "      <td>934.8</td>\n",
       "      <td>934.6</td>\n",
       "      <td>949.7</td>\n",
       "      <td>933.6</td>\n",
       "      <td>928.5</td>\n",
       "      <td>928.5</td>\n",
       "      <td>932.6</td>\n",
       "      <td>894.4</td>\n",
       "    </tr>\n",
       "  </tbody>\n",
       "</table>\n",
       "<p>5 rows × 36 columns</p>\n",
       "</div>"
      ],
      "text/plain": [
       "  sex    age geo_niv_0 geo_niv_1 geo_niv_2              region icd10_niv_0  \\\n",
       "0   F  TOTAL        FR       FR1      FR10       ile de France     A-R_V-Y   \n",
       "1   F  TOTAL        FR       FR2      FR21  Champagne-Ardenne      A-R_V-Y   \n",
       "2   F  TOTAL        FR       FR2      FR22           Picardie      A-R_V-Y   \n",
       "3   F  TOTAL        FR       FR2      FR23    Haute-Normandie      A-R_V-Y   \n",
       "4   F  TOTAL        FR       FR2      FR24            Centre       A-R_V-Y   \n",
       "\n",
       "              icd10_nom_niv_0 icd10_niv_1             icd10_nom_niv_1  ...  \\\n",
       "0  Toutes causes de mortalite     A-R_V-Y  Toutes causes de mortalite  ...   \n",
       "1  Toutes causes de mortalite     A-R_V-Y  Toutes causes de mortalite  ...   \n",
       "2  Toutes causes de mortalite     A-R_V-Y  Toutes causes de mortalite  ...   \n",
       "3  Toutes causes de mortalite     A-R_V-Y  Toutes causes de mortalite  ...   \n",
       "4  Toutes causes de mortalite     A-R_V-Y  Toutes causes de mortalite  ...   \n",
       "\n",
       "     2003   2002   2001   2000   1999   1998   1997   1996   1995   1994  \n",
       "0   684.3  640.7  649.4  649.2  660.7  670.5  671.1  681.2  686.3  669.9  \n",
       "1   898.5  866.6  870.9  877.6  900.1  858.5  861.1  874.0  881.0  842.5  \n",
       "2   880.7  844.1  830.9  829.0  839.5  828.4  838.8  844.8  834.7  794.2  \n",
       "3   867.2  827.0  833.0  820.2  814.5  830.9  811.7  844.8  833.0  777.1  \n",
       "4  1004.7  941.5  934.8  934.6  949.7  933.6  928.5  928.5  932.6  894.4  \n",
       "\n",
       "[5 rows x 36 columns]"
      ]
     },
     "execution_count": 4,
     "metadata": {},
     "output_type": "execute_result"
    }
   ],
   "source": [
    "data_fr.head()"
   ]
  },
  {
   "cell_type": "code",
   "execution_count": 5,
   "metadata": {
    "ExecuteTime": {
     "end_time": "2019-06-24T20:05:45.338976Z",
     "start_time": "2019-06-24T20:05:45.213147Z"
    }
   },
   "outputs": [],
   "source": [
    "data_fr.to_csv('data_fr.csv')"
   ]
  },
  {
   "cell_type": "code",
   "execution_count": 9,
   "metadata": {
    "ExecuteTime": {
     "end_time": "2019-06-22T11:44:37.972534Z",
     "start_time": "2019-06-22T11:44:37.894383Z"
    }
   },
   "outputs": [],
   "source": [
    "# data_fr.drop(['geo_niv_2', 'icd10_niv_3'], inplace=True, axis=1)"
   ]
  },
  {
   "cell_type": "code",
   "execution_count": 37,
   "metadata": {
    "ExecuteTime": {
     "end_time": "2019-06-22T14:42:50.277995Z",
     "start_time": "2019-06-22T14:42:49.464498Z"
    }
   },
   "outputs": [],
   "source": [
    "# df = data_fr.pivot_table(index=data_fr.columns[2:9].to_list(),\n",
    "#                    values=data_fr.columns[9:].to_list(),\n",
    "#                    columns=data_fr.columns[:2].to_list())\n",
    "# # df.to_json('arbo_1.json')\n",
    "\n",
    "# df\n",
    "\n",
    "# df = data_fr.pivot_table(index=data_fr.columns[2:9].to_list(),\n",
    "#                    values=data_fr.columns[9:].to_list(),\n",
    "#                    columns=data_fr.columns[:1].to_list())\n",
    "# # df.to_json('arbo_2.json')\n",
    "\n",
    "# df.head()"
   ]
  },
  {
   "cell_type": "code",
   "execution_count": 58,
   "metadata": {
    "ExecuteTime": {
     "end_time": "2019-06-22T14:52:39.322685Z",
     "start_time": "2019-06-22T14:52:39.319387Z"
    }
   },
   "outputs": [],
   "source": [
    "# ============ Dictionnaires imbriqués ===========\n",
    "# ================================================\n",
    "\n",
    "# def nested_dict():\n",
    "#     return collections.defaultdict(nested_dict)\n",
    "# result = nested_dict()\n",
    "\n",
    "# for row in df.itertuples():\n",
    "#     result[row.Index[0]][row.Index[1]][row.Index[2]][row.Index[3]][row.Index[4]][row.Index[5]] = row._1\n",
    "    \n",
    "# out = json.dumps(result)\n",
    "\n",
    "# with open('test.json', 'w') as f:\n",
    "#     f.write(out)"
   ]
  },
  {
   "cell_type": "code",
   "execution_count": null,
   "metadata": {},
   "outputs": [],
   "source": []
  }
 ],
 "metadata": {
  "hide_input": false,
  "kernelspec": {
   "display_name": "Python 3",
   "language": "python",
   "name": "python3"
  },
  "language_info": {
   "codemirror_mode": {
    "name": "ipython",
    "version": 3
   },
   "file_extension": ".py",
   "mimetype": "text/x-python",
   "name": "python",
   "nbconvert_exporter": "python",
   "pygments_lexer": "ipython3",
   "version": "3.7.3"
  },
  "toc": {
   "base_numbering": 1,
   "nav_menu": {},
   "number_sections": true,
   "sideBar": true,
   "skip_h1_title": false,
   "title_cell": "Table of Contents",
   "title_sidebar": "Contents",
   "toc_cell": false,
   "toc_position": {},
   "toc_section_display": true,
   "toc_window_display": false
  },
  "varInspector": {
   "cols": {
    "lenName": 16,
    "lenType": 16,
    "lenVar": 40
   },
   "kernels_config": {
    "python": {
     "delete_cmd_postfix": "",
     "delete_cmd_prefix": "del ",
     "library": "var_list.py",
     "varRefreshCmd": "print(var_dic_list())"
    },
    "r": {
     "delete_cmd_postfix": ") ",
     "delete_cmd_prefix": "rm(",
     "library": "var_list.r",
     "varRefreshCmd": "cat(var_dic_list()) "
    }
   },
   "types_to_exclude": [
    "module",
    "function",
    "builtin_function_or_method",
    "instance",
    "_Feature"
   ],
   "window_display": false
  }
 },
 "nbformat": 4,
 "nbformat_minor": 2
}
